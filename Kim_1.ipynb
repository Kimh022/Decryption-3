{
  "nbformat": 4,
  "nbformat_minor": 0,
  "metadata": {
    "colab": {
      "provenance": []
    },
    "kernelspec": {
      "name": "python3",
      "display_name": "Python 3"
    },
    "language_info": {
      "name": "python"
    }
  },
  "cells": [
    {
      "cell_type": "code",
      "execution_count": null,
      "metadata": {
        "colab": {
          "base_uri": "https://localhost:8080/"
        },
        "id": "q5yj_crPX7ST",
        "outputId": "d15f01c1-3f30-4794-cb9b-2dd40ae4cd11"
      },
      "outputs": [
        {
          "output_type": "stream",
          "name": "stdout",
          "text": [
            "thenthebandofveryvaliantretainerscametothecurrenttheywerecladallinarmorthecoastguardagaininlinkwovenburniesthelandwardernoticedthereturnoftheearlmenasheerstwhilehadseenthemnowisewithinsulthegreetedthestrangersfromthenazeofthecliffbutrodeontomeetthemsaidthebrightarmoredvisitorsvesselwardtraveledwelcometowedersthewidebosomedcraftthenlayonthesandladenwitharmorwithhorsesandjewelstheringstemmedsailerthemastuptoweredoerthetreasureofhrothgarbeowulfgivestheguardahandsomeswordtotheboatwardagoldboundbrandhepresentedthathewasafterwardshonoredonthealebenchmorehighlyastheheirloomsownersetheoutonhisvesseltodriveonthedeepdanecountrylefthealongbythemastthenaseagarmentflutteredaropefastenedsailtheseaboatresoundedthewindoerthewatersthewavefloaternowisekeptfromitsjourneytheseagoertraveledthefoamyneckedfloatedforthoerthecurrentsthewellfashionedvesseloerthewaysoftheoceanthegeatsseetheirownlandagaintilltheycamewithinsightofthecliffsofthegeatmenthewellknownheadlandsthewavegoerhasteneddrivenbybreezesstoodontheshore\n"
          ]
        }
      ],
      "source": [
        "import numpy as np\n",
        "\n",
        "\n",
        "def ceaserDec(m):\n",
        "  abc = \"abcdefghijklmnopqrstuvwxyz\"\n",
        "  cabc = \"abcdefghijklmnopqrstuvwxyz\"\n",
        "  m = m.lower()\n",
        "  ptext = \"\"\n",
        "  ctext = \"\"\n",
        "  key = 0\n",
        "  e = 0\n",
        "  t = 0\n",
        "  h = 0\n",
        "\n",
        "  for char in m:\n",
        "    if char in abc:\n",
        "      ctext += char\n",
        "\n",
        "  ccounter = np.zeros((26,))\n",
        "  bcounter = np.zeros((26,26))\n",
        "\n",
        "  for char in ctext:\n",
        "    n = abc.find(char)\n",
        "    ccounter[n] += 1\n",
        "\n",
        "  for i in range(len(ccounter)):\n",
        "    if (ccounter[e] < ccounter[i]):\n",
        "      e = i\n",
        "\n",
        "  for i in range(len(ctext)-1):\n",
        "    n1 = abc.find(ctext[i])\n",
        "    n2 = abc.find(ctext[i+1])\n",
        "    bcounter[n1,n2] += 1\n",
        "\n",
        "  bg = np.unravel_index(np.argmax(bcounter),bcounter.shape)\n",
        "\n",
        "  key = (e - 4 + 26 )%26\n",
        "\n",
        "  # t is index 19, h is index 7\n",
        "\n",
        "  t = (bg[0] - key + 26 )% 26\n",
        "  h = (bg[1] - key + 26 )% 26\n",
        "\n",
        "  if t!= 19 or h!= 7:\n",
        "    print(\"abort your cipher is not caeser cipher or the most common bigram is not TH\")\n",
        "\n",
        "  else:\n",
        "    for i in range (len(ctext)):\n",
        "      if cabc.find(ctext[i])-key < 0:\n",
        "        ptext += abc[cabc.find(ctext[i])-key + 26]\n",
        "      else:\n",
        "        ptext += abc[cabc.find(ctext[i])-key]\n",
        "\n",
        "  print(ptext)\n",
        "\n",
        "c1 = '''pdaj pda xwjz kb ranu rwhewjp napwejano\n",
        "ywia pk pda yqnnajp; pdau sana yhwz whh ej wnikn,\n",
        "pda ykwop-cqwnz wcwej.\n",
        "ej hejg-skraj xqnjeao. pda hwjz-swnzan jkpeyaz\n",
        "pda napqnj kb pda awnhiaj, wo da anopsdeha dwz oaaj pdai;\n",
        "jkseoa sepd ejoqhp da cnaapaz pda opnwjcano\n",
        "bnki pda jwva kb pda yhebb, xqp nkza kj pk iaap pdai;\n",
        "owez pda xnecdp-wniknaz reoepkno1 raooahswnz pnwrahaz\n",
        "sahykia pk sazano. pda seza-xkokiaz ynwbp pdaj\n",
        "hwu kj pda owjz, hwzaj sepd wnikn,\n",
        "sepd dknoao wjz fasaho, pda nejc-opaiiaz owehan:\n",
        "pda iwop qlpksanaz k'an pda pnawoqna kb dnkpdcwn.\n",
        "xaksqhb cerao pda cqwnz w dwjzokia osknz.\n",
        "pk pda xkwp-swnz w ckhz-xkqjz xnwjz da lnaoajpaz,\n",
        "pdwp da swo wbpanswnzo dkjknaz kj pda wha-xajyd ikna decdhu\n",
        "wo pda daenhkki'o ksjan. 2oap da kqp kj deo raooah,\n",
        "pk znera kj pda zaal, zwja-ykqjpnu habp da.\n",
        "whkjc xu pda iwop pdaj w oaw-cwniajp bhqppanaz,\n",
        "w nkla-bwopajaz oweh. pda oaw-xkwp naokqjzaz,\n",
        "pda sejz k'an pda swpano pda swra-bhkwpan jkseoa\n",
        "galp bnki epo fkqnjau; pda oaw-ckan pnwrahaz,\n",
        "pda bkwiu-jaygaz bhkwpaz bknpd k'an pda yqnnajpo,\n",
        "pda sahh-bwodekjaz raooah k'an pda swuo kb pda kyawj,\n",
        "pda cawpo oaa pdaen ksj hwjz wcwej.\n",
        "pehh pdau ywia sepdej oecdp kb pda yhebbo kb pda cawpiaj,\n",
        "pda sahh-gjksj dawzhwjzo. pda swra-ckan dwopajaz\n",
        "zneraj xu xnaavao, opkkz kj pda odkna.'''\n",
        "\n",
        "ceaserDec(c1)"
      ]
    },
    {
      "cell_type": "markdown",
      "source": [
        "I had made this code explicitly for a ceaser chiper homework, and I had expanded it to completely solve one without needing more than the cipher input. This uses the frequency analysis attack, where it finds the highest instance of the letter and shifts it to make e, the most used letter in the alphabet. This shifts the entire cipher into the correct shift. Also does a double check with the most common bigram of TH. P->T meaning the key is a shift 4 right."
      ],
      "metadata": {
        "id": "azuzJOFuHgCm"
      }
    },
    {
      "cell_type": "code",
      "source": [],
      "metadata": {
        "id": "wzjnj-2ycN13"
      },
      "execution_count": null,
      "outputs": []
    }
  ]
}